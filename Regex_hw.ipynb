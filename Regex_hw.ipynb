{
 "cells": [
  {
   "cell_type": "code",
   "execution_count": null,
   "id": "e3833c44",
   "metadata": {},
   "outputs": [],
   "source": [
    "# Regex project\n",
    "# Use python to read the file regex_test.txt and print the last name on each line using regular expressions \n",
    "# and groups (return None for names with no first and last name, or names that aren't properly capitalized)\n",
    "\n",
    "# Hint: use with open() and readlines()\n",
    "\n",
    "# \"\"\"\n",
    "# Expected Output\n",
    "# Abraham Lincoln\n",
    "# Andrew P Garfield\n",
    "# Connor Milliken\n",
    "# Jordan Alexander Williams\n",
    "# None\n",
    "# None\n",
    "# \"\"\""
   ]
  },
  {
   "cell_type": "code",
   "execution_count": 1,
   "id": "dfce18e4",
   "metadata": {},
   "outputs": [
    {
     "name": "stdout",
     "output_type": "stream",
     "text": [
      "Abraham Lincoln\n",
      "Andrew P Garfield\n",
      "Connor Milliken\n",
      "Jordan Alexander Williams\n",
      "Madonna\n",
      "programming is cool\n",
      "\n"
     ]
    }
   ],
   "source": [
    "file = open('regex_test.txt')\n",
    "\n",
    "# print(file)\n",
    "\n",
    "data = file.read()\n",
    "\n",
    "print(data)\n",
    "\n",
    "file.close()"
   ]
  },
  {
   "cell_type": "code",
   "execution_count": 3,
   "id": "b35cdade",
   "metadata": {},
   "outputs": [
    {
     "name": "stdout",
     "output_type": "stream",
     "text": [
      "Abraham Lincoln\n",
      "Andrew P Garfield\n",
      "Connor Milliken\n",
      "Jordan Alexander Williams\n",
      "Madonna\n",
      "programming is cool\n",
      "\n"
     ]
    }
   ],
   "source": [
    "with open('regex_test.txt') as file:\n",
    "    names_data = file.read()\n",
    "    print(names_data)"
   ]
  },
  {
   "cell_type": "code",
   "execution_count": 14,
   "id": "6766cc63",
   "metadata": {},
   "outputs": [],
   "source": [
    "import re"
   ]
  },
  {
   "cell_type": "code",
   "execution_count": 15,
   "id": "7ff882fd",
   "metadata": {},
   "outputs": [
    {
     "name": "stdout",
     "output_type": "stream",
     "text": [
      "<module 're' from 'C:\\\\Users\\\\Caitlin\\\\anaconda3\\\\lib\\\\re.py'>\n"
     ]
    }
   ],
   "source": [
    "print(re)"
   ]
  },
  {
   "cell_type": "code",
   "execution_count": 67,
   "id": "a4613c92",
   "metadata": {},
   "outputs": [
    {
     "name": "stdout",
     "output_type": "stream",
     "text": [
      "[('Abraham', 'Lincoln'), ('Andrew', 'P'), ('Connor', 'Milliken'), ('Jordan', 'Alexander'), ('programming', 'is')]\n",
      "None\n"
     ]
    }
   ],
   "source": [
    "#name_list = \"Abraham Lincoln, Andrew P Garfield, Connor Milliken, Jordan Alexander Williams, Madonna, programming is cool\"\n",
    "\n",
    "pattern_name = re.compile('(?P<first>[A-Za-z]+) (?P<last>[A-Za-z]+)')\n",
    "\n",
    "found_names = pattern_name.findall(name_list)\n",
    "print(found_names)\n",
    "\n",
    "for name in pattern_name.split(','):\n",
    "    match = pattern_name.search(name)\n",
    "    \n",
    "    if match:\n",
    "        print(f\"{first} {last}\")\n",
    "    else:\n",
    "        print('None')\n"
   ]
  },
  {
   "cell_type": "code",
   "execution_count": 65,
   "id": "737e4db0",
   "metadata": {},
   "outputs": [],
   "source": [
    "pattern = re.compile(r'''\n",
    "    (?P<name>[a-zA-Z]+,[\\w-]+)  \n",
    "''', re.X|re.M)\n",
    "\n",
    "#found_names = pattern_name.findall(names_data)\n",
    "#print(found_names)\n",
    "for found in pattern.finditer(names_data):\n",
    "    if found.names('name'):\n",
    "        first_name = found_names.names('name').split(', ')[1]\n",
    "#         middle_name = found_names.group('name').split(', ')[0]\n",
    "        last_name = found_names.names('name').split(', ')[0]\n",
    "        print(f\"{first_name} {last_name} / {found.group('name')}\")\n",
    "    else:\n",
    "        print('None')\n",
    "\n"
   ]
  },
  {
   "cell_type": "code",
   "execution_count": null,
   "id": "a87f3258",
   "metadata": {},
   "outputs": [],
   "source": []
  }
 ],
 "metadata": {
  "kernelspec": {
   "display_name": "Python 3",
   "language": "python",
   "name": "python3"
  },
  "language_info": {
   "codemirror_mode": {
    "name": "ipython",
    "version": 3
   },
   "file_extension": ".py",
   "mimetype": "text/x-python",
   "name": "python",
   "nbconvert_exporter": "python",
   "pygments_lexer": "ipython3",
   "version": "3.8.8"
  }
 },
 "nbformat": 4,
 "nbformat_minor": 5
}
