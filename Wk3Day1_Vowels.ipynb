{
 "cells": [
  {
   "cell_type": "code",
   "execution_count": null,
   "id": "f3a1712d",
   "metadata": {},
   "outputs": [],
   "source": [
    "# Return the number (count) of vowels in the given string.\n",
    "# We will consider a, e, i, o, u as vowels (but not y).\n",
    "# The input string will only consist of lower case letters and/or spaces.\n",
    "# ex:\n",
    "# get_count('hello_world') => 3"
   ]
  },
  {
   "cell_type": "code",
   "execution_count": 9,
   "id": "d61c8096",
   "metadata": {},
   "outputs": [
    {
     "data": {
      "text/plain": [
       "3"
      ]
     },
     "execution_count": 9,
     "metadata": {},
     "output_type": "execute_result"
    }
   ],
   "source": [
    "def vowel(str1):\n",
    "    count = (0)\n",
    "    vowel = 'a', 'e', 'i', 'o', 'u'\n",
    "    for letter in str1:\n",
    "        if letter in vowel:\n",
    "            count = count + 1\n",
    "            \n",
    "            \n",
    "            \n",
    "    return(count)\n",
    "\n",
    "vowel('hello_world')"
   ]
  },
  {
   "cell_type": "code",
   "execution_count": 10,
   "id": "82c05493",
   "metadata": {},
   "outputs": [],
   "source": [
    "def get_count(input_str):\n",
    "    num_vowels = 0\n",
    "    a_count = input_str.count('a')\n",
    "    e_count = input_str.count('e')\n",
    "    i_count = input_str.count('i')\n",
    "    o_count = input_str.count('o')\n",
    "    u_count = input_str.count('u')\n",
    "    num_vowels = a_count + e_count + i_count + o_count + u_count\n",
    "    return num_vowels"
   ]
  },
  {
   "cell_type": "code",
   "execution_count": 8,
   "id": "5a625d9d",
   "metadata": {},
   "outputs": [],
   "source": [
    "import re\n",
    "def get_count(input_str):    \n",
    "    return len(re.findall(r'[aeiou]', input_str))"
   ]
  },
  {
   "cell_type": "code",
   "execution_count": null,
   "id": "2a5fae73",
   "metadata": {},
   "outputs": [],
   "source": []
  }
 ],
 "metadata": {
  "kernelspec": {
   "display_name": "Python 3",
   "language": "python",
   "name": "python3"
  },
  "language_info": {
   "codemirror_mode": {
    "name": "ipython",
    "version": 3
   },
   "file_extension": ".py",
   "mimetype": "text/x-python",
   "name": "python",
   "nbconvert_exporter": "python",
   "pygments_lexer": "ipython3",
   "version": "3.8.8"
  }
 },
 "nbformat": 4,
 "nbformat_minor": 5
}
